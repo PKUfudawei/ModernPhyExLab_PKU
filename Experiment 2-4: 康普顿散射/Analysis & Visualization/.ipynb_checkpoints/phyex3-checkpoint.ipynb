{
 "cells": [
  {
   "cell_type": "code",
   "execution_count": 10,
   "id": "cd6d74b4-0e4d-4acd-8d5e-fdf32b67cbff",
   "metadata": {},
   "outputs": [
    {
     "name": "stdout",
     "output_type": "stream",
     "text": [
      "1024\n",
      "1024\n",
      "1024\n",
      "1024\n",
      "1024\n",
      "1024\n"
     ]
    }
   ],
   "source": [
    "with open('/Users/DaweiFu/Downloads/bkg20.dat.txt','r') as f:\n",
    "    bkg20 = f.read().splitlines()\n",
    "    bkg20=[int(bkg20[i]) for i in range(len(bkg20))]\n",
    "print(len(bkg20))\n",
    "\n",
    "with open('/Users/DaweiFu/Downloads/bkg40.dat.txt','r') as f:\n",
    "    bkg40 = f.read().splitlines()\n",
    "    bkg40=[int(bkg40[i]) for i in range(len(bkg40))]\n",
    "print(len(bkg40))\n",
    "\n",
    "with open('/Users/DaweiFu/Downloads/bkg60.dat.txt','r') as f:\n",
    "    bkg60 = f.read().splitlines()\n",
    "    bkg60=[int(bkg60[i]) for i in range(len(bkg60))]\n",
    "print(len(bkg60))\n",
    "\n",
    "with open('/Users/DaweiFu/Downloads/bkg80.dat.txt','r') as f:\n",
    "    bkg80 = f.read().splitlines()\n",
    "    bkg80=[int(bkg80[i]) for i in range(len(bkg80))]\n",
    "print(len(bkg80))\n",
    "\n",
    "with open('/Users/DaweiFu/Downloads/bkg100.dat.txt','r') as f:\n",
    "    bkg100 = f.read().splitlines()\n",
    "    bkg100=[int(bkg100[i]) for i in range(len(bkg100))]\n",
    "print(len(bkg100))\n",
    "\n",
    "with open('/Users/DaweiFu/Downloads/bkg120.dat.txt','r') as f:\n",
    "    bkg120 = f.read().splitlines()\n",
    "    bkg120=[int(bkg120[i]) for i in range(len(bkg120))]\n",
    "print(len(bkg120))\n"
   ]
  },
  {
   "cell_type": "code",
   "execution_count": 11,
   "id": "65a13847-03cb-4c5d-9bd6-d6351b2ad404",
   "metadata": {},
   "outputs": [
    {
     "name": "stdout",
     "output_type": "stream",
     "text": [
      "[1023, 604, 558, 541, 677, 1021]\n"
     ]
    }
   ],
   "source": [
    "import numpy as np\n",
    "sum=[0,0,0,0,0,0]\n",
    "for i in range(397-1,457):\n",
    "    sum[0]+=bkg20[i]\n",
    "for i in range(323-1,385):\n",
    "    sum[1]+=bkg40[i]    \n",
    "for i in range(253-1,305):\n",
    "    sum[2]+=bkg60[i]\n",
    "for i in range(199-1,244):\n",
    "    sum[3]+=bkg80[i]\n",
    "for i in range(161-1,200):\n",
    "    sum[4]+=bkg100[i]\n",
    "for i in range(134-1,171):\n",
    "    sum[5]+=bkg120[i]\n",
    "    \n",
    "print(sum)"
   ]
  },
  {
   "cell_type": "code",
   "execution_count": null,
   "id": "a19e319f-c78f-41d1-8453-8e213106ddf7",
   "metadata": {},
   "outputs": [],
   "source": [
    "from numpy import array\n",
    "from numpy import linspace\n",
    "import matplotlib.pyplot as plt\n",
    "\n",
    "X=[i for i in range(1024)]\n",
    "\n",
    "plt.figure(figsize=(12,9))\n",
    "plt.scatter(x,bkg20, s=150,marker='x',color='red', label=r'$\\eta(20^{\\circ})$')\n",
    "plt.scatter(x,bkg40, s=150,marker='x',color='darkorange', label=r'$\\eta(40^{\\circ})$')\n",
    "plt.scatter(x,bkg60, s=150,marker='x',color='gold', label=r'$\\eta(60^{\\circ})$')\n",
    "plt.scatter(x,bkg80, s=150,marker='x',color='cyan', label=r'$\\eta(80^{\\circ})$')\n",
    "plt.scatter(x,bkg100,s=150,marker='x',color='purple', label=r'$\\eta(100^{\\circ})$')\n",
    "plt.scatter(x,bkg120,s=150,marker='x',color='deeppink', label=r'$\\eta(120^{\\circ})$')\n",
    "#plt.ylim(0,1.1)\n",
    "\n",
    "x_ticks=linspace(0,1,11)\n",
    "#y_ticks=linspace(0,1.1,12)\n",
    "plt.xticks(x_ticks)\n",
    "#plt.yticks(y_ticks)\n",
    "plt.tick_params(width=0.5, labelsize=14)\n",
    "plt.legend(loc='upper right', frameon=False, fontsize=14)\n",
    "plt.xlim(0,1.05)\n",
    "ax=plt.gca()\n",
    "ax.set_xlabel(r'E / MeV', fontsize=16,x=1,y=1)\n",
    "ax.set_ylabel(r'$\\eta(\\theta)$', fontsize=16,x=1,y=1,rotation=0)\n",
    "#ax.spines['right'].set_color('none')\n",
    "#ax.spines['top'].set_color('none')\n",
    "#ax.xaxis.set_ticks_position('bottom')\n",
    "#ax.spines['bottom'].set_position(('data',0))\n",
    "ax.yaxis.set_ticks_position('left')\n",
    "#ax.spines['left'].set_position(('data',0))\n",
    "#ax.set_title('y = x^2',fontsize=14,color='r')\n",
    "plt.grid()\n",
    "#x_major_locator=MultipleLocator(0.1)\n",
    "#y_major_locator=MultipleLocator(50)\n",
    "#ax.xaxis.set_major_locator(x_major_locator)\n",
    "#ax.yaxis.set_major_locator(y_major_locator)\n",
    "plt.savefig('./phyex2_fig1.pdf')\n",
    "plt.show()"
   ]
  }
 ],
 "metadata": {
  "kernelspec": {
   "display_name": "Python 3 (ipykernel)",
   "language": "python",
   "name": "python3"
  },
  "language_info": {
   "codemirror_mode": {
    "name": "ipython",
    "version": 3
   },
   "file_extension": ".py",
   "mimetype": "text/x-python",
   "name": "python",
   "nbconvert_exporter": "python",
   "pygments_lexer": "ipython3",
   "version": "3.8.12"
  }
 },
 "nbformat": 4,
 "nbformat_minor": 5
}
